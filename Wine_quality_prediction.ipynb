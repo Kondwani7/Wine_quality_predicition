{
  "nbformat": 4,
  "nbformat_minor": 0,
  "metadata": {
    "colab": {
      "name": "Wine_quality_prediction.ipynb",
      "provenance": [],
      "collapsed_sections": [],
      "authorship_tag": "ABX9TyOfLME3khG9h2yVsReR2kw5",
      "include_colab_link": true
    },
    "kernelspec": {
      "name": "python3",
      "display_name": "Python 3"
    },
    "language_info": {
      "name": "python"
    }
  },
  "cells": [
    {
      "cell_type": "markdown",
      "metadata": {
        "id": "view-in-github",
        "colab_type": "text"
      },
      "source": [
        "<a href=\"https://colab.research.google.com/github/Kondwani7/Wine_quality_predicition/blob/main/Wine_quality_prediction.ipynb\" target=\"_parent\"><img src=\"https://colab.research.google.com/assets/colab-badge.svg\" alt=\"Open In Colab\"/></a>"
      ]
    },
    {
      "cell_type": "code",
      "metadata": {
        "id": "qGb_MGz4O412"
      },
      "source": [
        "import matplotlib.pyplot as plt\n",
        "import numpy as np\n",
        "import pandas as pd\n",
        "import seaborn as sns\n",
        "from sklearn import datasets\n",
        "from sklearn import manifold\n",
        "\n",
        "%matplotlib inline"
      ],
      "execution_count": null,
      "outputs": []
    },
    {
      "cell_type": "code",
      "metadata": {
        "colab": {
          "base_uri": "https://localhost:8080/"
        },
        "id": "HcHmGBRyWL1a",
        "outputId": "8066962e-a3a8-4003-8307-175abd92a773"
      },
      "source": [
        "from google.colab import drive\n",
        "drive.mount('/content/drive', force_remount= True)"
      ],
      "execution_count": null,
      "outputs": [
        {
          "output_type": "stream",
          "name": "stdout",
          "text": [
            "Mounted at /content/drive\n"
          ]
        }
      ]
    },
    {
      "cell_type": "code",
      "metadata": {
        "id": "9DXcqObzQndz"
      },
      "source": [
        "data = pd.read_csv('/content/drive/MyDrive/practice datasets/winequality-red.csv')"
      ],
      "execution_count": null,
      "outputs": []
    },
    {
      "cell_type": "code",
      "metadata": {
        "colab": {
          "base_uri": "https://localhost:8080/",
          "height": 206
        },
        "id": "j4Ys9ZB7T1Po",
        "outputId": "172a120b-dce8-4253-a36f-a9526000f18e"
      },
      "source": [
        "data.head()"
      ],
      "execution_count": null,
      "outputs": [
        {
          "output_type": "execute_result",
          "data": {
            "text/html": [
              "<div>\n",
              "<style scoped>\n",
              "    .dataframe tbody tr th:only-of-type {\n",
              "        vertical-align: middle;\n",
              "    }\n",
              "\n",
              "    .dataframe tbody tr th {\n",
              "        vertical-align: top;\n",
              "    }\n",
              "\n",
              "    .dataframe thead th {\n",
              "        text-align: right;\n",
              "    }\n",
              "</style>\n",
              "<table border=\"1\" class=\"dataframe\">\n",
              "  <thead>\n",
              "    <tr style=\"text-align: right;\">\n",
              "      <th></th>\n",
              "      <th>fixed acidity</th>\n",
              "      <th>volatile acidity</th>\n",
              "      <th>citric acid</th>\n",
              "      <th>residual sugar</th>\n",
              "      <th>chlorides</th>\n",
              "      <th>free sulfur dioxide</th>\n",
              "      <th>total sulfur dioxide</th>\n",
              "      <th>density</th>\n",
              "      <th>pH</th>\n",
              "      <th>sulphates</th>\n",
              "      <th>alcohol</th>\n",
              "      <th>quality</th>\n",
              "    </tr>\n",
              "  </thead>\n",
              "  <tbody>\n",
              "    <tr>\n",
              "      <th>0</th>\n",
              "      <td>7.4</td>\n",
              "      <td>0.70</td>\n",
              "      <td>0.00</td>\n",
              "      <td>1.9</td>\n",
              "      <td>0.076</td>\n",
              "      <td>11.0</td>\n",
              "      <td>34.0</td>\n",
              "      <td>0.9978</td>\n",
              "      <td>3.51</td>\n",
              "      <td>0.56</td>\n",
              "      <td>9.4</td>\n",
              "      <td>5</td>\n",
              "    </tr>\n",
              "    <tr>\n",
              "      <th>1</th>\n",
              "      <td>7.8</td>\n",
              "      <td>0.88</td>\n",
              "      <td>0.00</td>\n",
              "      <td>2.6</td>\n",
              "      <td>0.098</td>\n",
              "      <td>25.0</td>\n",
              "      <td>67.0</td>\n",
              "      <td>0.9968</td>\n",
              "      <td>3.20</td>\n",
              "      <td>0.68</td>\n",
              "      <td>9.8</td>\n",
              "      <td>5</td>\n",
              "    </tr>\n",
              "    <tr>\n",
              "      <th>2</th>\n",
              "      <td>7.8</td>\n",
              "      <td>0.76</td>\n",
              "      <td>0.04</td>\n",
              "      <td>2.3</td>\n",
              "      <td>0.092</td>\n",
              "      <td>15.0</td>\n",
              "      <td>54.0</td>\n",
              "      <td>0.9970</td>\n",
              "      <td>3.26</td>\n",
              "      <td>0.65</td>\n",
              "      <td>9.8</td>\n",
              "      <td>5</td>\n",
              "    </tr>\n",
              "    <tr>\n",
              "      <th>3</th>\n",
              "      <td>11.2</td>\n",
              "      <td>0.28</td>\n",
              "      <td>0.56</td>\n",
              "      <td>1.9</td>\n",
              "      <td>0.075</td>\n",
              "      <td>17.0</td>\n",
              "      <td>60.0</td>\n",
              "      <td>0.9980</td>\n",
              "      <td>3.16</td>\n",
              "      <td>0.58</td>\n",
              "      <td>9.8</td>\n",
              "      <td>6</td>\n",
              "    </tr>\n",
              "    <tr>\n",
              "      <th>4</th>\n",
              "      <td>7.4</td>\n",
              "      <td>0.70</td>\n",
              "      <td>0.00</td>\n",
              "      <td>1.9</td>\n",
              "      <td>0.076</td>\n",
              "      <td>11.0</td>\n",
              "      <td>34.0</td>\n",
              "      <td>0.9978</td>\n",
              "      <td>3.51</td>\n",
              "      <td>0.56</td>\n",
              "      <td>9.4</td>\n",
              "      <td>5</td>\n",
              "    </tr>\n",
              "  </tbody>\n",
              "</table>\n",
              "</div>"
            ],
            "text/plain": [
              "   fixed acidity  volatile acidity  citric acid  ...  sulphates  alcohol  quality\n",
              "0            7.4              0.70         0.00  ...       0.56      9.4        5\n",
              "1            7.8              0.88         0.00  ...       0.68      9.8        5\n",
              "2            7.8              0.76         0.04  ...       0.65      9.8        5\n",
              "3           11.2              0.28         0.56  ...       0.58      9.8        6\n",
              "4            7.4              0.70         0.00  ...       0.56      9.4        5\n",
              "\n",
              "[5 rows x 12 columns]"
            ]
          },
          "metadata": {},
          "execution_count": 4
        }
      ]
    },
    {
      "cell_type": "code",
      "metadata": {
        "colab": {
          "base_uri": "https://localhost:8080/"
        },
        "id": "SojAqeuQSn10",
        "outputId": "31f3d84c-a291-4765-80ef-f17b0c8455f7"
      },
      "source": [
        "data.shape"
      ],
      "execution_count": null,
      "outputs": [
        {
          "output_type": "execute_result",
          "data": {
            "text/plain": [
              "(1599, 12)"
            ]
          },
          "metadata": {},
          "execution_count": 5
        }
      ]
    },
    {
      "cell_type": "code",
      "metadata": {
        "colab": {
          "base_uri": "https://localhost:8080/"
        },
        "id": "xxaTQtHPZb-2",
        "outputId": "1fefc60e-6881-4e3a-bc53-14560900bea5"
      },
      "source": [
        "data.dtypes"
      ],
      "execution_count": null,
      "outputs": [
        {
          "output_type": "execute_result",
          "data": {
            "text/plain": [
              "fixed acidity           float64\n",
              "volatile acidity        float64\n",
              "citric acid             float64\n",
              "residual sugar          float64\n",
              "chlorides               float64\n",
              "free sulfur dioxide     float64\n",
              "total sulfur dioxide    float64\n",
              "density                 float64\n",
              "pH                      float64\n",
              "sulphates               float64\n",
              "alcohol                 float64\n",
              "quality                   int64\n",
              "dtype: object"
            ]
          },
          "metadata": {},
          "execution_count": 26
        }
      ]
    },
    {
      "cell_type": "code",
      "metadata": {
        "colab": {
          "base_uri": "https://localhost:8080/"
        },
        "id": "Z4eO-b7ZZh6V",
        "outputId": "c7e6d906-9668-4fec-ab23-14478dd0311c"
      },
      "source": [
        "data.info()"
      ],
      "execution_count": null,
      "outputs": [
        {
          "output_type": "stream",
          "name": "stdout",
          "text": [
            "<class 'pandas.core.frame.DataFrame'>\n",
            "RangeIndex: 1599 entries, 0 to 1598\n",
            "Data columns (total 12 columns):\n",
            " #   Column                Non-Null Count  Dtype  \n",
            "---  ------                --------------  -----  \n",
            " 0   fixed acidity         1599 non-null   float64\n",
            " 1   volatile acidity      1599 non-null   float64\n",
            " 2   citric acid           1599 non-null   float64\n",
            " 3   residual sugar        1599 non-null   float64\n",
            " 4   chlorides             1599 non-null   float64\n",
            " 5   free sulfur dioxide   1599 non-null   float64\n",
            " 6   total sulfur dioxide  1599 non-null   float64\n",
            " 7   density               1599 non-null   float64\n",
            " 8   pH                    1599 non-null   float64\n",
            " 9   sulphates             1599 non-null   float64\n",
            " 10  alcohol               1599 non-null   float64\n",
            " 11  quality               1599 non-null   int64  \n",
            "dtypes: float64(11), int64(1)\n",
            "memory usage: 150.0 KB\n"
          ]
        }
      ]
    },
    {
      "cell_type": "code",
      "metadata": {
        "colab": {
          "base_uri": "https://localhost:8080/",
          "height": 355
        },
        "id": "yMfAmipvZmHt",
        "outputId": "6d14b8fe-4483-4053-9750-7b2f82465525"
      },
      "source": [
        "data.describe()"
      ],
      "execution_count": null,
      "outputs": [
        {
          "output_type": "execute_result",
          "data": {
            "text/html": [
              "<div>\n",
              "<style scoped>\n",
              "    .dataframe tbody tr th:only-of-type {\n",
              "        vertical-align: middle;\n",
              "    }\n",
              "\n",
              "    .dataframe tbody tr th {\n",
              "        vertical-align: top;\n",
              "    }\n",
              "\n",
              "    .dataframe thead th {\n",
              "        text-align: right;\n",
              "    }\n",
              "</style>\n",
              "<table border=\"1\" class=\"dataframe\">\n",
              "  <thead>\n",
              "    <tr style=\"text-align: right;\">\n",
              "      <th></th>\n",
              "      <th>fixed acidity</th>\n",
              "      <th>volatile acidity</th>\n",
              "      <th>citric acid</th>\n",
              "      <th>residual sugar</th>\n",
              "      <th>chlorides</th>\n",
              "      <th>free sulfur dioxide</th>\n",
              "      <th>total sulfur dioxide</th>\n",
              "      <th>density</th>\n",
              "      <th>pH</th>\n",
              "      <th>sulphates</th>\n",
              "      <th>alcohol</th>\n",
              "      <th>quality</th>\n",
              "    </tr>\n",
              "  </thead>\n",
              "  <tbody>\n",
              "    <tr>\n",
              "      <th>count</th>\n",
              "      <td>1599.000000</td>\n",
              "      <td>1599.000000</td>\n",
              "      <td>1599.000000</td>\n",
              "      <td>1599.000000</td>\n",
              "      <td>1599.000000</td>\n",
              "      <td>1599.000000</td>\n",
              "      <td>1599.000000</td>\n",
              "      <td>1599.000000</td>\n",
              "      <td>1599.000000</td>\n",
              "      <td>1599.000000</td>\n",
              "      <td>1599.000000</td>\n",
              "      <td>1599.000000</td>\n",
              "    </tr>\n",
              "    <tr>\n",
              "      <th>mean</th>\n",
              "      <td>8.319637</td>\n",
              "      <td>0.527821</td>\n",
              "      <td>0.270976</td>\n",
              "      <td>2.538806</td>\n",
              "      <td>0.087467</td>\n",
              "      <td>15.874922</td>\n",
              "      <td>46.467792</td>\n",
              "      <td>0.996747</td>\n",
              "      <td>3.311113</td>\n",
              "      <td>0.658149</td>\n",
              "      <td>10.422983</td>\n",
              "      <td>5.636023</td>\n",
              "    </tr>\n",
              "    <tr>\n",
              "      <th>std</th>\n",
              "      <td>1.741096</td>\n",
              "      <td>0.179060</td>\n",
              "      <td>0.194801</td>\n",
              "      <td>1.409928</td>\n",
              "      <td>0.047065</td>\n",
              "      <td>10.460157</td>\n",
              "      <td>32.895324</td>\n",
              "      <td>0.001887</td>\n",
              "      <td>0.154386</td>\n",
              "      <td>0.169507</td>\n",
              "      <td>1.065668</td>\n",
              "      <td>0.807569</td>\n",
              "    </tr>\n",
              "    <tr>\n",
              "      <th>min</th>\n",
              "      <td>4.600000</td>\n",
              "      <td>0.120000</td>\n",
              "      <td>0.000000</td>\n",
              "      <td>0.900000</td>\n",
              "      <td>0.012000</td>\n",
              "      <td>1.000000</td>\n",
              "      <td>6.000000</td>\n",
              "      <td>0.990070</td>\n",
              "      <td>2.740000</td>\n",
              "      <td>0.330000</td>\n",
              "      <td>8.400000</td>\n",
              "      <td>3.000000</td>\n",
              "    </tr>\n",
              "    <tr>\n",
              "      <th>25%</th>\n",
              "      <td>7.100000</td>\n",
              "      <td>0.390000</td>\n",
              "      <td>0.090000</td>\n",
              "      <td>1.900000</td>\n",
              "      <td>0.070000</td>\n",
              "      <td>7.000000</td>\n",
              "      <td>22.000000</td>\n",
              "      <td>0.995600</td>\n",
              "      <td>3.210000</td>\n",
              "      <td>0.550000</td>\n",
              "      <td>9.500000</td>\n",
              "      <td>5.000000</td>\n",
              "    </tr>\n",
              "    <tr>\n",
              "      <th>50%</th>\n",
              "      <td>7.900000</td>\n",
              "      <td>0.520000</td>\n",
              "      <td>0.260000</td>\n",
              "      <td>2.200000</td>\n",
              "      <td>0.079000</td>\n",
              "      <td>14.000000</td>\n",
              "      <td>38.000000</td>\n",
              "      <td>0.996750</td>\n",
              "      <td>3.310000</td>\n",
              "      <td>0.620000</td>\n",
              "      <td>10.200000</td>\n",
              "      <td>6.000000</td>\n",
              "    </tr>\n",
              "    <tr>\n",
              "      <th>75%</th>\n",
              "      <td>9.200000</td>\n",
              "      <td>0.640000</td>\n",
              "      <td>0.420000</td>\n",
              "      <td>2.600000</td>\n",
              "      <td>0.090000</td>\n",
              "      <td>21.000000</td>\n",
              "      <td>62.000000</td>\n",
              "      <td>0.997835</td>\n",
              "      <td>3.400000</td>\n",
              "      <td>0.730000</td>\n",
              "      <td>11.100000</td>\n",
              "      <td>6.000000</td>\n",
              "    </tr>\n",
              "    <tr>\n",
              "      <th>max</th>\n",
              "      <td>15.900000</td>\n",
              "      <td>1.580000</td>\n",
              "      <td>1.000000</td>\n",
              "      <td>15.500000</td>\n",
              "      <td>0.611000</td>\n",
              "      <td>72.000000</td>\n",
              "      <td>289.000000</td>\n",
              "      <td>1.003690</td>\n",
              "      <td>4.010000</td>\n",
              "      <td>2.000000</td>\n",
              "      <td>14.900000</td>\n",
              "      <td>8.000000</td>\n",
              "    </tr>\n",
              "  </tbody>\n",
              "</table>\n",
              "</div>"
            ],
            "text/plain": [
              "       fixed acidity  volatile acidity  ...      alcohol      quality\n",
              "count    1599.000000       1599.000000  ...  1599.000000  1599.000000\n",
              "mean        8.319637          0.527821  ...    10.422983     5.636023\n",
              "std         1.741096          0.179060  ...     1.065668     0.807569\n",
              "min         4.600000          0.120000  ...     8.400000     3.000000\n",
              "25%         7.100000          0.390000  ...     9.500000     5.000000\n",
              "50%         7.900000          0.520000  ...    10.200000     6.000000\n",
              "75%         9.200000          0.640000  ...    11.100000     6.000000\n",
              "max        15.900000          1.580000  ...    14.900000     8.000000\n",
              "\n",
              "[8 rows x 12 columns]"
            ]
          },
          "metadata": {},
          "execution_count": 29
        }
      ]
    },
    {
      "cell_type": "code",
      "metadata": {
        "id": "t7Da-jCIZrTt"
      },
      "source": [
        "#remapping the quality scale\n",
        "quality_mapping = {\n",
        "    3:0,\n",
        "    4:1,\n",
        "    5:2,\n",
        "    6:3,\n",
        "    7:4,\n",
        "    8:5\n",
        "}"
      ],
      "execution_count": null,
      "outputs": []
    },
    {
      "cell_type": "code",
      "metadata": {
        "id": "BzB60eWcaPye"
      },
      "source": [
        "data.loc[:, \"quality\"] = data.quality.map(quality_mapping)"
      ],
      "execution_count": null,
      "outputs": []
    },
    {
      "cell_type": "code",
      "metadata": {
        "colab": {
          "base_uri": "https://localhost:8080/",
          "height": 520
        },
        "id": "uPS35_NAbIrT",
        "outputId": "cea53047-bafd-4cc3-8c92-a1d7e7b85057"
      },
      "source": [
        "data.head(15)"
      ],
      "execution_count": null,
      "outputs": [
        {
          "output_type": "execute_result",
          "data": {
            "text/html": [
              "<div>\n",
              "<style scoped>\n",
              "    .dataframe tbody tr th:only-of-type {\n",
              "        vertical-align: middle;\n",
              "    }\n",
              "\n",
              "    .dataframe tbody tr th {\n",
              "        vertical-align: top;\n",
              "    }\n",
              "\n",
              "    .dataframe thead th {\n",
              "        text-align: right;\n",
              "    }\n",
              "</style>\n",
              "<table border=\"1\" class=\"dataframe\">\n",
              "  <thead>\n",
              "    <tr style=\"text-align: right;\">\n",
              "      <th></th>\n",
              "      <th>fixed acidity</th>\n",
              "      <th>volatile acidity</th>\n",
              "      <th>citric acid</th>\n",
              "      <th>residual sugar</th>\n",
              "      <th>chlorides</th>\n",
              "      <th>free sulfur dioxide</th>\n",
              "      <th>total sulfur dioxide</th>\n",
              "      <th>density</th>\n",
              "      <th>pH</th>\n",
              "      <th>sulphates</th>\n",
              "      <th>alcohol</th>\n",
              "      <th>quality</th>\n",
              "    </tr>\n",
              "  </thead>\n",
              "  <tbody>\n",
              "    <tr>\n",
              "      <th>0</th>\n",
              "      <td>7.4</td>\n",
              "      <td>0.700</td>\n",
              "      <td>0.00</td>\n",
              "      <td>1.9</td>\n",
              "      <td>0.076</td>\n",
              "      <td>11.0</td>\n",
              "      <td>34.0</td>\n",
              "      <td>0.9978</td>\n",
              "      <td>3.51</td>\n",
              "      <td>0.56</td>\n",
              "      <td>9.4</td>\n",
              "      <td>2</td>\n",
              "    </tr>\n",
              "    <tr>\n",
              "      <th>1</th>\n",
              "      <td>7.8</td>\n",
              "      <td>0.880</td>\n",
              "      <td>0.00</td>\n",
              "      <td>2.6</td>\n",
              "      <td>0.098</td>\n",
              "      <td>25.0</td>\n",
              "      <td>67.0</td>\n",
              "      <td>0.9968</td>\n",
              "      <td>3.20</td>\n",
              "      <td>0.68</td>\n",
              "      <td>9.8</td>\n",
              "      <td>2</td>\n",
              "    </tr>\n",
              "    <tr>\n",
              "      <th>2</th>\n",
              "      <td>7.8</td>\n",
              "      <td>0.760</td>\n",
              "      <td>0.04</td>\n",
              "      <td>2.3</td>\n",
              "      <td>0.092</td>\n",
              "      <td>15.0</td>\n",
              "      <td>54.0</td>\n",
              "      <td>0.9970</td>\n",
              "      <td>3.26</td>\n",
              "      <td>0.65</td>\n",
              "      <td>9.8</td>\n",
              "      <td>2</td>\n",
              "    </tr>\n",
              "    <tr>\n",
              "      <th>3</th>\n",
              "      <td>11.2</td>\n",
              "      <td>0.280</td>\n",
              "      <td>0.56</td>\n",
              "      <td>1.9</td>\n",
              "      <td>0.075</td>\n",
              "      <td>17.0</td>\n",
              "      <td>60.0</td>\n",
              "      <td>0.9980</td>\n",
              "      <td>3.16</td>\n",
              "      <td>0.58</td>\n",
              "      <td>9.8</td>\n",
              "      <td>3</td>\n",
              "    </tr>\n",
              "    <tr>\n",
              "      <th>4</th>\n",
              "      <td>7.4</td>\n",
              "      <td>0.700</td>\n",
              "      <td>0.00</td>\n",
              "      <td>1.9</td>\n",
              "      <td>0.076</td>\n",
              "      <td>11.0</td>\n",
              "      <td>34.0</td>\n",
              "      <td>0.9978</td>\n",
              "      <td>3.51</td>\n",
              "      <td>0.56</td>\n",
              "      <td>9.4</td>\n",
              "      <td>2</td>\n",
              "    </tr>\n",
              "    <tr>\n",
              "      <th>5</th>\n",
              "      <td>7.4</td>\n",
              "      <td>0.660</td>\n",
              "      <td>0.00</td>\n",
              "      <td>1.8</td>\n",
              "      <td>0.075</td>\n",
              "      <td>13.0</td>\n",
              "      <td>40.0</td>\n",
              "      <td>0.9978</td>\n",
              "      <td>3.51</td>\n",
              "      <td>0.56</td>\n",
              "      <td>9.4</td>\n",
              "      <td>2</td>\n",
              "    </tr>\n",
              "    <tr>\n",
              "      <th>6</th>\n",
              "      <td>7.9</td>\n",
              "      <td>0.600</td>\n",
              "      <td>0.06</td>\n",
              "      <td>1.6</td>\n",
              "      <td>0.069</td>\n",
              "      <td>15.0</td>\n",
              "      <td>59.0</td>\n",
              "      <td>0.9964</td>\n",
              "      <td>3.30</td>\n",
              "      <td>0.46</td>\n",
              "      <td>9.4</td>\n",
              "      <td>2</td>\n",
              "    </tr>\n",
              "    <tr>\n",
              "      <th>7</th>\n",
              "      <td>7.3</td>\n",
              "      <td>0.650</td>\n",
              "      <td>0.00</td>\n",
              "      <td>1.2</td>\n",
              "      <td>0.065</td>\n",
              "      <td>15.0</td>\n",
              "      <td>21.0</td>\n",
              "      <td>0.9946</td>\n",
              "      <td>3.39</td>\n",
              "      <td>0.47</td>\n",
              "      <td>10.0</td>\n",
              "      <td>4</td>\n",
              "    </tr>\n",
              "    <tr>\n",
              "      <th>8</th>\n",
              "      <td>7.8</td>\n",
              "      <td>0.580</td>\n",
              "      <td>0.02</td>\n",
              "      <td>2.0</td>\n",
              "      <td>0.073</td>\n",
              "      <td>9.0</td>\n",
              "      <td>18.0</td>\n",
              "      <td>0.9968</td>\n",
              "      <td>3.36</td>\n",
              "      <td>0.57</td>\n",
              "      <td>9.5</td>\n",
              "      <td>4</td>\n",
              "    </tr>\n",
              "    <tr>\n",
              "      <th>9</th>\n",
              "      <td>7.5</td>\n",
              "      <td>0.500</td>\n",
              "      <td>0.36</td>\n",
              "      <td>6.1</td>\n",
              "      <td>0.071</td>\n",
              "      <td>17.0</td>\n",
              "      <td>102.0</td>\n",
              "      <td>0.9978</td>\n",
              "      <td>3.35</td>\n",
              "      <td>0.80</td>\n",
              "      <td>10.5</td>\n",
              "      <td>2</td>\n",
              "    </tr>\n",
              "    <tr>\n",
              "      <th>10</th>\n",
              "      <td>6.7</td>\n",
              "      <td>0.580</td>\n",
              "      <td>0.08</td>\n",
              "      <td>1.8</td>\n",
              "      <td>0.097</td>\n",
              "      <td>15.0</td>\n",
              "      <td>65.0</td>\n",
              "      <td>0.9959</td>\n",
              "      <td>3.28</td>\n",
              "      <td>0.54</td>\n",
              "      <td>9.2</td>\n",
              "      <td>2</td>\n",
              "    </tr>\n",
              "    <tr>\n",
              "      <th>11</th>\n",
              "      <td>7.5</td>\n",
              "      <td>0.500</td>\n",
              "      <td>0.36</td>\n",
              "      <td>6.1</td>\n",
              "      <td>0.071</td>\n",
              "      <td>17.0</td>\n",
              "      <td>102.0</td>\n",
              "      <td>0.9978</td>\n",
              "      <td>3.35</td>\n",
              "      <td>0.80</td>\n",
              "      <td>10.5</td>\n",
              "      <td>2</td>\n",
              "    </tr>\n",
              "    <tr>\n",
              "      <th>12</th>\n",
              "      <td>5.6</td>\n",
              "      <td>0.615</td>\n",
              "      <td>0.00</td>\n",
              "      <td>1.6</td>\n",
              "      <td>0.089</td>\n",
              "      <td>16.0</td>\n",
              "      <td>59.0</td>\n",
              "      <td>0.9943</td>\n",
              "      <td>3.58</td>\n",
              "      <td>0.52</td>\n",
              "      <td>9.9</td>\n",
              "      <td>2</td>\n",
              "    </tr>\n",
              "    <tr>\n",
              "      <th>13</th>\n",
              "      <td>7.8</td>\n",
              "      <td>0.610</td>\n",
              "      <td>0.29</td>\n",
              "      <td>1.6</td>\n",
              "      <td>0.114</td>\n",
              "      <td>9.0</td>\n",
              "      <td>29.0</td>\n",
              "      <td>0.9974</td>\n",
              "      <td>3.26</td>\n",
              "      <td>1.56</td>\n",
              "      <td>9.1</td>\n",
              "      <td>2</td>\n",
              "    </tr>\n",
              "    <tr>\n",
              "      <th>14</th>\n",
              "      <td>8.9</td>\n",
              "      <td>0.620</td>\n",
              "      <td>0.18</td>\n",
              "      <td>3.8</td>\n",
              "      <td>0.176</td>\n",
              "      <td>52.0</td>\n",
              "      <td>145.0</td>\n",
              "      <td>0.9986</td>\n",
              "      <td>3.16</td>\n",
              "      <td>0.88</td>\n",
              "      <td>9.2</td>\n",
              "      <td>2</td>\n",
              "    </tr>\n",
              "  </tbody>\n",
              "</table>\n",
              "</div>"
            ],
            "text/plain": [
              "    fixed acidity  volatile acidity  citric acid  ...  sulphates  alcohol  quality\n",
              "0             7.4             0.700         0.00  ...       0.56      9.4        2\n",
              "1             7.8             0.880         0.00  ...       0.68      9.8        2\n",
              "2             7.8             0.760         0.04  ...       0.65      9.8        2\n",
              "3            11.2             0.280         0.56  ...       0.58      9.8        3\n",
              "4             7.4             0.700         0.00  ...       0.56      9.4        2\n",
              "5             7.4             0.660         0.00  ...       0.56      9.4        2\n",
              "6             7.9             0.600         0.06  ...       0.46      9.4        2\n",
              "7             7.3             0.650         0.00  ...       0.47     10.0        4\n",
              "8             7.8             0.580         0.02  ...       0.57      9.5        4\n",
              "9             7.5             0.500         0.36  ...       0.80     10.5        2\n",
              "10            6.7             0.580         0.08  ...       0.54      9.2        2\n",
              "11            7.5             0.500         0.36  ...       0.80     10.5        2\n",
              "12            5.6             0.615         0.00  ...       0.52      9.9        2\n",
              "13            7.8             0.610         0.29  ...       1.56      9.1        2\n",
              "14            8.9             0.620         0.18  ...       0.88      9.2        2\n",
              "\n",
              "[15 rows x 12 columns]"
            ]
          },
          "metadata": {},
          "execution_count": 8
        }
      ]
    },
    {
      "cell_type": "code",
      "metadata": {
        "id": "YH4GSAudbOUE"
      },
      "source": [
        "#training validation split\n",
        "#first shuffle the dataset\n",
        "data = data.sample(frac=1).reset_index(drop=True)\n",
        "#1600, 1000 for train, 599 for validation\n",
        "data_train = data.head(1000)\n",
        "data_test = data.tail(599)"
      ],
      "execution_count": null,
      "outputs": []
    },
    {
      "cell_type": "code",
      "metadata": {
        "colab": {
          "base_uri": "https://localhost:8080/"
        },
        "id": "xdx3zp-fcuRJ",
        "outputId": "f7dfc921-0218-4f79-f227-7bcd1bd7c533"
      },
      "source": [
        "#sample decision tree for training\n",
        "from sklearn import tree\n",
        "from sklearn import metrics\n",
        "#decision tree\n",
        "clf = tree.DecisionTreeClassifier(max_depth=3)\n",
        "cols  = [\n",
        "      'fixed acidity',\t'volatile acidity',\t'citric acid',\t'residual sugar',\t'chlorides',\t'free sulfur dioxide',\n",
        "      'total sulfur dioxide'\t,'density',\t'pH'\t,'sulphates',\t'alcohol'\n",
        "]\n",
        "\n",
        "clf.fit(data_train[cols], data_train.quality)"
      ],
      "execution_count": null,
      "outputs": [
        {
          "output_type": "execute_result",
          "data": {
            "text/plain": [
              "DecisionTreeClassifier(max_depth=3)"
            ]
          },
          "metadata": {},
          "execution_count": 10
        }
      ]
    },
    {
      "cell_type": "code",
      "metadata": {
        "id": "1BFWMZlFe6fr"
      },
      "source": [
        "#test accuracy\n",
        "#generate predictions on the training set\n",
        "train_preds = clf.predict(data_train[cols])  \n",
        "#generate predictions on the test set  \n",
        "test_preds = clf.predict(data_test[cols])\n",
        "#calculate the accuracy of predictions on  \n",
        "#training data set \n",
        "train_acc = metrics.mean_squared_error(data_train.quality, train_preds) \n",
        "#calculate the accuracy of predictions on  \n",
        "#test data settes \n",
        "test_acc = metrics.mean_squared_error(data_test.quality, test_preds)\n"
      ],
      "execution_count": null,
      "outputs": []
    },
    {
      "cell_type": "code",
      "metadata": {
        "colab": {
          "base_uri": "https://localhost:8080/"
        },
        "id": "B88uNlKcgi-q",
        "outputId": "57b9a30a-4049-49aa-c15e-af5bb56c1bd0"
      },
      "source": [
        "train_acc"
      ],
      "execution_count": null,
      "outputs": [
        {
          "output_type": "execute_result",
          "data": {
            "text/plain": [
              "0.0"
            ]
          },
          "metadata": {},
          "execution_count": 23
        }
      ]
    },
    {
      "cell_type": "code",
      "metadata": {
        "colab": {
          "base_uri": "https://localhost:8080/"
        },
        "id": "0S0wTqiMgp2t",
        "outputId": "87e9297e-014d-4d27-c54b-e151cac380e8"
      },
      "source": [
        "test_acc"
      ],
      "execution_count": null,
      "outputs": [
        {
          "output_type": "execute_result",
          "data": {
            "text/plain": [
              "0.6928213689482471"
            ]
          },
          "metadata": {},
          "execution_count": 24
        }
      ]
    },
    {
      "cell_type": "code",
      "metadata": {
        "id": "MhjjXmLJgtP2"
      },
      "source": [
        "#better scaled variant of the solution\n",
        "plt.rc('xtick', labelsize=20) \n",
        "plt.rc('ytick', labelsize=20)\n",
        "\n",
        "train_acc = [.5]\n",
        "test_acc = [.5]\n",
        "\n",
        "for depth in range(1, 25):\n",
        "  clf = tree.DecisionTreeClassifier(max_depth=depth)\n",
        "\n",
        "  cols  = [\n",
        "      'fixed acidity',\t'volatile acidity',\t'citric acid',\t'residual sugar',\t'chlorides',\t'free sulfur dioxide',\n",
        "      'total sulfur dioxide'\t,'density',\t'pH'\t,'sulphates',\t'alcohol'\n",
        "  ]\n",
        "\n",
        "  clf.fit(data_train[cols],data_train.quality)\n",
        "  #get predictions\n",
        "  train_preds = clf.predict(data_train[cols])  \n",
        "  test_preds = clf.predict(data_test[cols])\n",
        "  #track accuracy\n",
        "  train_accuracy = metrics.accuracy_score(data_train.quality, train_preds) \n",
        "  test_accuracy = metrics.accuracy_score(data_test.quality, test_preds)\n",
        "  #append accuracies to the initial values\n",
        "  train_acc.append(train_accuracy)\n",
        "  test_acc.append(test_accuracy)\n",
        "\n",
        "\n"
      ],
      "execution_count": null,
      "outputs": []
    },
    {
      "cell_type": "code",
      "metadata": {
        "colab": {
          "base_uri": "https://localhost:8080/",
          "height": 349
        },
        "id": "4CKKsJ5Migq8",
        "outputId": "4af90f21-800c-422b-9b50-478e75b62780"
      },
      "source": [
        "# this demonstrates that the model clearly overfits\n",
        "plt.figure(figsize=(10, 5))  \n",
        "sns.set_style(\"whitegrid\")  \n",
        "plt.plot(train_acc, label=\"train accuracy\")  \n",
        "plt.plot(test_acc, label=\"test accuracy\")  \n",
        "plt.legend(loc=\"upper left\", prop={'size': 15})  \n",
        "plt.xticks(range(0, 26, 5))  \n",
        "plt.xlabel(\"max_depth\", size=15)  \n",
        "plt.ylabel(\"accuracy\", size=15)  \n",
        "plt.show() "
      ],
      "execution_count": null,
      "outputs": [
        {
          "output_type": "display_data",
          "data": {
            "image/png": "[encoded data removed]",
            "text/plain": [
              "<Figure size 720x360 with 1 Axes>"
            ]
          },
          "metadata": {
            "needs_background": "light"
          }
        }
      ]
    },
    {
      "cell_type": "code",
      "metadata": {
        "colab": {
          "base_uri": "https://localhost:8080/",
          "height": 310
        },
        "id": "mZMthyX2jOhQ",
        "outputId": "2212c0ec-9923-4d19-cd70-892696cfa52c"
      },
      "source": [
        "#cross validation\n",
        "#distribution of the target quality table\n",
        "b = sns.countplot(x='quality', data=data)\n",
        "b.set_xlabel('quality', fontsize=16)\n",
        "b.set_ylabel(\"count\", fontsize=16)\n"
      ],
      "execution_count": null,
      "outputs": [
        {
          "output_type": "execute_result",
          "data": {
            "text/plain": [
              "Text(0, 0.5, 'count')"
            ]
          },
          "metadata": {},
          "execution_count": 16
        },
        {
          "output_type": "display_data",
          "data": {
            "image/png": "[encoded data removed]",
            "text/plain": [
              "<Figure size 432x288 with 1 Axes>"
            ]
          },
          "metadata": {}
        }
      ]
    },
    {
      "cell_type": "code",
      "metadata": {
        "id": "J7gPwBT8nHDi",
        "colab": {
          "base_uri": "https://localhost:8080/"
        },
        "outputId": "53906701-667e-47ae-fd38-47242517f3a6"
      },
      "source": [
        "#the dataset's target value doesn't have equal distribution, so we will stratified k-fold and xgboost\n",
        "cols  = [\n",
        "      'fixed acidity',\t'volatile acidity',\t'citric acid',\t'residual sugar',\t'chlorides',\t'free sulfur dioxide',\n",
        "      'total sulfur dioxide'\t,'density',\t'pH'\t,'sulphates',\t'alcohol'\n",
        "  ]\n",
        "from sklearn.model_selection import KFold\n",
        "import xgboost as xgb\n",
        "from sklearn.metrics import mean_squared_error\n",
        "X, y  = data_train[cols], data_train.quality\n",
        "\n",
        "kf = KFold(n_splits =5,shuffle=True,random_state=160)\n",
        "feats = pd.DataFrame({'features': X.columns}) \n",
        "gbm_predictions = []\n",
        "cv_score_ = 0\n",
        "oof_preds = np.zeros((data_train.shape[0],))\n",
        "\n",
        "\n",
        "for i,(tr_index,test_index) in enumerate(kf.split(X,y)):\n",
        "  \n",
        "  print()\n",
        "  print(f'######### FOLD {i+1} / {kf.n_splits} ')\n",
        "  \n",
        "  X_train,y_train = X.iloc[tr_index,:],y[tr_index]\n",
        "  X_test,y_test = X.iloc[test_index,:],y[test_index]\n",
        "  \n",
        "  gbm = xgb.XGBRegressor(eval_metric = 'rmse',n_estimators = 2000,learning_rate = 0.01,seed=162,random_state = 162,colsample_bytree=0.65)\n",
        "\n",
        "  gbm.fit(X_train,y_train,eval_set = [(X_test, y_test)],early_stopping_rounds= 200,verbose=100)\n",
        "  \n",
        "  cv_score_ += mean_squared_error(y_test, gbm.predict(X_test), squared=False) / kf.n_splits\n",
        "  oof_preds[test_index] = gbm.predict(X_test)\n",
        "  \n",
        "  preds = gbm.predict(data_test[cols])\n",
        "  gbm_predictions.append(preds)\n",
        "\n",
        "  feats[f'Fold {i}'] = gbm.feature_importances_\n",
        "\n",
        "feats['Importances'] = feats.mean(axis=1)\n",
        "print( ' CV RMSE : ',cv_score_)\n",
        "preds_xgb = np.average(gbm_predictions, axis=0)\n",
        "print(preds_xgb.shape)\n"
      ],
      "execution_count": null,
      "outputs": [
        {
          "output_type": "stream",
          "name": "stdout",
          "text": [
            "\n",
            "######### FOLD 1 / 5 \n",
            "[10:49:04] WARNING: /workspace/src/objective/regression_obj.cu:152: reg:linear is now deprecated in favor of reg:squarederror.\n",
            "[0]\tvalidation_0-rmse:2.20457\n",
            "Will train until validation_0-rmse hasn't improved in 200 rounds.\n",
            "[100]\tvalidation_0-rmse:1.00386\n",
            "[200]\tvalidation_0-rmse:0.690057\n",
            "[300]\tvalidation_0-rmse:0.628708\n",
            "[400]\tvalidation_0-rmse:0.616628\n",
            "[500]\tvalidation_0-rmse:0.615039\n",
            "[600]\tvalidation_0-rmse:0.615115\n",
            "[700]\tvalidation_0-rmse:0.614776\n",
            "[800]\tvalidation_0-rmse:0.613107\n",
            "[900]\tvalidation_0-rmse:0.613757\n",
            "[1000]\tvalidation_0-rmse:0.613344\n",
            "Stopping. Best iteration:\n",
            "[834]\tvalidation_0-rmse:0.612589\n",
            "\n",
            "\n",
            "######### FOLD 2 / 5 \n",
            "[10:49:06] WARNING: /workspace/src/objective/regression_obj.cu:152: reg:linear is now deprecated in favor of reg:squarederror.\n",
            "[0]\tvalidation_0-rmse:2.23298\n",
            "Will train until validation_0-rmse hasn't improved in 200 rounds.\n",
            "[100]\tvalidation_0-rmse:0.999297\n",
            "[200]\tvalidation_0-rmse:0.675552\n",
            "[300]\tvalidation_0-rmse:0.614718\n",
            "[400]\tvalidation_0-rmse:0.607017\n",
            "[500]\tvalidation_0-rmse:0.607987\n",
            "[600]\tvalidation_0-rmse:0.611298\n",
            "Stopping. Best iteration:\n",
            "[412]\tvalidation_0-rmse:0.606627\n",
            "\n",
            "\n",
            "######### FOLD 3 / 5 \n",
            "[10:49:06] WARNING: /workspace/src/objective/regression_obj.cu:152: reg:linear is now deprecated in favor of reg:squarederror.\n",
            "[0]\tvalidation_0-rmse:2.32045\n",
            "Will train until validation_0-rmse hasn't improved in 200 rounds.\n",
            "[100]\tvalidation_0-rmse:1.10157\n",
            "[200]\tvalidation_0-rmse:0.756101\n",
            "[300]\tvalidation_0-rmse:0.673944\n",
            "[400]\tvalidation_0-rmse:0.653355\n",
            "[500]\tvalidation_0-rmse:0.646292\n",
            "[600]\tvalidation_0-rmse:0.64033\n",
            "[700]\tvalidation_0-rmse:0.638144\n",
            "[800]\tvalidation_0-rmse:0.637705\n",
            "[900]\tvalidation_0-rmse:0.634911\n",
            "[1000]\tvalidation_0-rmse:0.632287\n",
            "[1100]\tvalidation_0-rmse:0.629461\n",
            "[1200]\tvalidation_0-rmse:0.626763\n",
            "[1300]\tvalidation_0-rmse:0.623795\n",
            "[1400]\tvalidation_0-rmse:0.621144\n",
            "[1500]\tvalidation_0-rmse:0.61898\n",
            "[1600]\tvalidation_0-rmse:0.617514\n",
            "[1700]\tvalidation_0-rmse:0.615487\n",
            "[1800]\tvalidation_0-rmse:0.613847\n",
            "[1900]\tvalidation_0-rmse:0.61349\n",
            "[1999]\tvalidation_0-rmse:0.613196\n",
            "\n",
            "######### FOLD 4 / 5 \n",
            "[10:49:09] WARNING: /workspace/src/objective/regression_obj.cu:152: reg:linear is now deprecated in favor of reg:squarederror.\n",
            "[0]\tvalidation_0-rmse:2.22892\n",
            "Will train until validation_0-rmse hasn't improved in 200 rounds.\n",
            "[100]\tvalidation_0-rmse:1.01403\n",
            "[200]\tvalidation_0-rmse:0.679071\n",
            "[300]\tvalidation_0-rmse:0.610966\n",
            "[400]\tvalidation_0-rmse:0.596972\n",
            "[500]\tvalidation_0-rmse:0.592535\n",
            "[600]\tvalidation_0-rmse:0.59101\n",
            "[700]\tvalidation_0-rmse:0.591739\n",
            "[800]\tvalidation_0-rmse:0.591732\n",
            "Stopping. Best iteration:\n",
            "[615]\tvalidation_0-rmse:0.590822\n",
            "\n",
            "\n",
            "######### FOLD 5 / 5 \n",
            "[10:49:10] WARNING: /workspace/src/objective/regression_obj.cu:152: reg:linear is now deprecated in favor of reg:squarederror.\n",
            "[0]\tvalidation_0-rmse:2.2787\n",
            "Will train until validation_0-rmse hasn't improved in 200 rounds.\n",
            "[100]\tvalidation_0-rmse:1.01554\n",
            "[200]\tvalidation_0-rmse:0.670281\n",
            "[300]\tvalidation_0-rmse:0.606278\n",
            "[400]\tvalidation_0-rmse:0.597454\n",
            "[500]\tvalidation_0-rmse:0.597471\n",
            "[600]\tvalidation_0-rmse:0.599678\n",
            "Stopping. Best iteration:\n",
            "[459]\tvalidation_0-rmse:0.596782\n",
            "\n",
            " CV RMSE :  0.6039931992331282\n",
            "(599,)\n"
          ]
        }
      ]
    },
    {
      "cell_type": "code",
      "metadata": {
        "id": "4ZzrENkyPiEe"
      },
      "source": [
        "#model performance improvded from rmse 0.69 to 0.60339"
      ],
      "execution_count": null,
      "outputs": []
    },
    {
      "cell_type": "code",
      "metadata": {
        "id": "ANRjQ7bLV8nr"
      },
      "source": [
        ""
      ],
      "execution_count": null,
      "outputs": []
    }
  ]
}